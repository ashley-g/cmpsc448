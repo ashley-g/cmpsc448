{
 "metadata": {
  "language_info": {
   "codemirror_mode": {
    "name": "ipython",
    "version": 3
   },
   "file_extension": ".py",
   "mimetype": "text/x-python",
   "name": "python",
   "nbconvert_exporter": "python",
   "pygments_lexer": "ipython3",
   "version": "3.8.3-final"
  },
  "orig_nbformat": 2,
  "kernelspec": {
   "name": "python3",
   "display_name": "Python 3"
  }
 },
 "nbformat": 4,
 "nbformat_minor": 2,
 "cells": [
  {
   "cell_type": "code",
   "execution_count": 1,
   "metadata": {},
   "outputs": [],
   "source": [
    "## CPMSC 448 Homework 4\n",
    "### Problem 2 - Support Vector Machine\n",
    "\n",
    "#### Name: Ashley Gallagher\n",
    "#### PSU id: ang5456"
   ]
  },
  {
   "cell_type": "code",
   "execution_count": 2,
   "metadata": {},
   "outputs": [],
   "source": [
    "import numpy as np\n",
    "import pandas as pd\n",
    "pd.set_option('display.max.columns', 100)\n",
    "%matplotlib inline \n",
    "import matplotlib.pyplot as plt\n",
    "import seaborn as sns\n",
    "import warnings\n",
    "warnings.filterwarnings('ignore')\n",
    "from sklearn.datasets import load_svmlight_file\n",
    "from sklearn.model_selection import train_test_split\n",
    "from sklearn.model_selection import KFold\n",
    "from sklearn.model_selection import cross_val_score\n",
    "from sklearn.svm import SVC"
   ]
  },
  {
   "cell_type": "code",
   "execution_count": 3,
   "metadata": {},
   "outputs": [],
   "source": [
    "train_data = load_svmlight_file('a9a.txt')\n",
    "X_train = train_data[0]\n",
    "Y_train = train_data[1]\n",
    "test_data = load_svmlight_file('a9a.t')\n",
    "X_test = test_data[0]\n",
    "Y_test = test_data[1]"
   ]
  },
  {
   "cell_type": "code",
   "execution_count": 4,
   "metadata": {},
   "outputs": [
    {
     "output_type": "stream",
     "name": "stdout",
     "text": [
      "SVC()\n"
     ]
    }
   ],
   "source": [
    "#x_train, x_test, y_train , y_test = train_test_split(X_train, Y_train, test_size=.3, random_state=163)\n",
    "model = SVC()\n",
    "model.fit(X_train, Y_train)\n",
    "print(model)"
   ]
  },
  {
   "cell_type": "code",
   "execution_count": 6,
   "metadata": {},
   "outputs": [],
   "source": [
    "#tuning hyper parameters\n",
    "kernel = ['poly', 'rbf', 'sigmoid']\n",
    "gamma = ['scale', 'auto']\n",
    "c = [1.0, 5.0, 10.0]\n",
    "parameters = []\n",
    "for k in kernel:\n",
    "    for g in gamma:\n",
    "        for item in c:\n",
    "            parameters.append([k, g, item])"
   ]
  },
  {
   "cell_type": "code",
   "execution_count": 10,
   "metadata": {},
   "outputs": [
    {
     "output_type": "stream",
     "name": "stdout",
     "text": [
      "round 1\n",
      "84.6994937845623\n",
      "round 2\n",
      "84.09755044170271\n",
      "round 3\n",
      "83.48638852913602\n",
      "round 4\n",
      "75.91903223094147\n",
      "round 5\n",
      "81.54539544554211\n",
      "round 6\n",
      "82.2517685615737\n",
      "round 7\n",
      "84.65342159277654\n",
      "round 8\n",
      "84.46301616399711\n",
      "round 9\n",
      "84.14054336295153\n",
      "round 10\n",
      "84.40772427062758\n",
      "round 11\n",
      "84.6442109462063\n",
      "round 12\n",
      "84.69334797710121\n",
      "round 13\n",
      "78.30533418452724\n",
      "round 14\n",
      "77.97058816155568\n",
      "round 15\n",
      "77.52834271582708\n",
      "round 16\n",
      "84.37394058110313\n",
      "round 17\n",
      "84.5704994575113\n",
      "round 18\n",
      "84.65034769865389\n",
      "{'kernel': 'poly', 'gamma': 'scale', 'c': 1.0}\n",
      "84.6994937845623\n"
     ]
    }
   ],
   "source": [
    "best = 0\n",
    "best_params = []\n",
    "iter = 0\n",
    "for p in parameters:\n",
    "    iter += 1\n",
    "    print('round {0}'.format(iter))\n",
    "    params = {\n",
    "        'kernel': p[0],\n",
    "        'gamma': p[1],\n",
    "        'c': p[2],\n",
    "    }\n",
    "    model = SVC(\n",
    "        kernel= p[0],\n",
    "        gamma= p[1],\n",
    "        C=p[2],\n",
    "    )\n",
    "    kfold = KFold(n_splits=3, random_state=7)\n",
    "    results = cross_val_score(model, X_train, Y_train, cv=kfold)\n",
    "    accuracy = results.mean()*100\n",
    "    print(accuracy)\n",
    "    if (accuracy > best):\n",
    "        best = accuracy\n",
    "        best_model = params\n",
    "    \n",
    "print(best_model)\n",
    "print(best)"
   ]
  },
  {
   "cell_type": "code",
   "execution_count": 11,
   "metadata": {},
   "outputs": [
    {
     "output_type": "stream",
     "name": "stdout",
     "text": [
      "Cross Validation Training Error Rate for final Model: 0.15300506215437693\n",
      "Test Error Rate for the final Model: 0.14974510165223265\n"
     ]
    }
   ],
   "source": [
    "#Final Claasifier and metrics\n",
    "final_model = SVC(\n",
    "        kernel= 'poly',\n",
    "        gamma= 'scale',\n",
    "        C= 1.0,\n",
    "    )\n",
    "\n",
    "kfold = KFold(n_splits=3, random_state=7)\n",
    "results = cross_val_score(final_model, X_train, Y_train, cv=kfold)\n",
    "\n",
    "print('Cross Validation Training Error Rate for final Model: {0}'.format(1-results.mean()))\n",
    "\n",
    "final_model.fit(X_train, Y_train)\n",
    "\n",
    "print('Test Error Rate for the final Model: {0}'.format(1-final_model.score(X_test, Y_test)))"
   ]
  },
  {
   "cell_type": "code",
   "execution_count": null,
   "metadata": {},
   "outputs": [],
   "source": []
  }
 ]
}